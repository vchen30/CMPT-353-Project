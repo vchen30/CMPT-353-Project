{
 "cells": [
  {
   "cell_type": "code",
   "execution_count": 2,
   "metadata": {},
   "outputs": [],
   "source": [
    "import pandas as pd\n",
    "import numpy as np\n",
    "import matplotlib.pyplot as plt\n",
    "from scipy import stats"
   ]
  },
  {
   "cell_type": "code",
   "execution_count": 3,
   "metadata": {},
   "outputs": [],
   "source": [
    "data = pd.read_csv('movies_success.csv', sep=',')"
   ]
  },
  {
   "cell_type": "code",
   "execution_count": 4,
   "metadata": {},
   "outputs": [],
   "source": [
    "average_profit = data[data['made_profit']==True]\n",
    "average_noprofit = data[data['made_profit']==False]"
   ]
  },
  {
   "cell_type": "markdown",
   "metadata": {},
   "source": [
    "### Histograms"
   ]
  },
  {
   "cell_type": "code",
   "execution_count": 5,
   "metadata": {},
   "outputs": [
    {
     "data": {
      "text/plain": [
       "(array([111.,   0.,   0.,   0.,   0.,   0.,   0.,   0.,   0., 625.]),\n",
       " array([0. , 0.1, 0.2, 0.3, 0.4, 0.5, 0.6, 0.7, 0.8, 0.9, 1. ]),\n",
       " <a list of 10 Patch objects>)"
      ]
     },
     "execution_count": 5,
     "metadata": {},
     "output_type": "execute_result"
    },
    {
     "data": {
      "image/png": "[encoded data removed]",
      "text/plain": [
       "<Figure size 432x288 with 1 Axes>"
      ]
     },
     "metadata": {
      "needs_background": "light"
     },
     "output_type": "display_data"
    }
   ],
   "source": [
    "plt.hist(data['made_profit'])"
   ]
  },
  {
   "cell_type": "code",
   "execution_count": 6,
   "metadata": {},
   "outputs": [
    {
     "data": {
      "text/plain": [
       "(array([ 1.,  0.,  1.,  3., 11., 34., 25., 23.,  9.,  4.]),\n",
       " array([1.5 , 1.78, 2.06, 2.34, 2.62, 2.9 , 3.18, 3.46, 3.74, 4.02, 4.3 ]),\n",
       " <a list of 10 Patch objects>)"
      ]
     },
     "execution_count": 6,
     "metadata": {},
     "output_type": "execute_result"
    },
    {
     "data": {
      "image/png": "[encoded data removed]",
      "text/plain": [
       "<Figure size 432x288 with 1 Axes>"
      ]
     },
     "metadata": {
      "needs_background": "light"
     },
     "output_type": "display_data"
    }
   ],
   "source": [
    "plt.hist(data['audience_average'])\n",
    "plt.hist(average_profit['audience_average'])\n",
    "plt.hist(average_noprofit['audience_average'])"
   ]
  },
  {
   "cell_type": "code",
   "execution_count": 7,
   "metadata": {},
   "outputs": [
    {
     "data": {
      "text/plain": [
       "(array([ 1.,  2.,  5.,  8., 21., 25., 17., 19.,  9.,  4.]),\n",
       " array([1. , 1.8, 2.6, 3.4, 4.2, 5. , 5.8, 6.6, 7.4, 8.2, 9. ]),\n",
       " <a list of 10 Patch objects>)"
      ]
     },
     "execution_count": 7,
     "metadata": {},
     "output_type": "execute_result"
    },
    {
     "data": {
      "image/png": "[encoded data removed]",
      "text/plain": [
       "<Figure size 432x288 with 1 Axes>"
      ]
     },
     "metadata": {
      "needs_background": "light"
     },
     "output_type": "display_data"
    }
   ],
   "source": [
    "plt.hist(data['critic_average'])\n",
    "plt.hist(average_profit['critic_average'])\n",
    "plt.hist(average_noprofit['critic_average'])"
   ]
  },
  {
   "cell_type": "code",
   "execution_count": null,
   "metadata": {
    "scrolled": true
   },
   "outputs": [],
   "source": [
    "#plt.hist(data['genre'])"
   ]
  },
  {
   "cell_type": "markdown",
   "metadata": {},
   "source": [
    "### Statistical Tests"
   ]
  },
  {
   "cell_type": "code",
   "execution_count": null,
   "metadata": {},
   "outputs": [],
   "source": [
    "norm1 = stats.normaltest(data['critic_average']).pvalue\n",
    "norm2 = stats.normaltest(data['audience_average']).pvalue\n",
    "print(\"Normality Tests\\nCritic Average pvalue: %0.03g  Audience Average pvalue: %0.03g\" % (norm1,norm2))"
   ]
  },
  {
   "cell_type": "code",
   "execution_count": null,
   "metadata": {},
   "outputs": [],
   "source": [
    "#transforming critic_average data by squaring makes it look normal, still fails normality test\n",
    "#probably because the number of data points > 40\n",
    "plt.hist(data['critic_average']**2)\n",
    "\n",
    "\n",
    "#transforming audience_average data by squaring makes it look normal, still fails normality test\n",
    "#plt.hist(data['audience_average']**2)"
   ]
  },
  {
   "cell_type": "code",
   "execution_count": null,
   "metadata": {},
   "outputs": [],
   "source": [
    "#Levene Test\n",
    "\n",
    "levene1 = stats.levene(average_profit['audience_average'],average_noprofit['audience_average']).pvalue\n",
    "levene2 = stats.levene(average_profit['critic_average'],average_noprofit['critic_average']).pvalue\n",
    "\n",
    "print(\"Variance between profit and profit\\nAudience: %0.03g, Critic: %0.03g\" % (levene1,levene2))\n",
    "#Can conclude that both groups have equal variance"
   ]
  },
  {
   "cell_type": "code",
   "execution_count": null,
   "metadata": {
    "scrolled": true
   },
   "outputs": [],
   "source": [
    "#T-test\n",
    "#Are the means different for audience and critic reviews between movies that made profit and no profit?\n",
    "#Yes as it turns out (p << 0.05)\n",
    "\n",
    "stats.ttest_ind(average_profit['audience_average'],average_noprofit['audience_average']).pvalue\n",
    "#stats.ttest_ind(average_profit['critic_average'],average_noprofit['critic_average']).pvalue\n",
    "#stats.ttest_ind(average_profit['audience_average'],average_profit['critic_average']).pvalue\n",
    "#stats.ttest_ind(average_noprofit['audience_average'],average_profit['critic_average']).pvalue"
   ]
  },
  {
   "cell_type": "code",
   "execution_count": null,
   "metadata": {},
   "outputs": [],
   "source": [
    "stats.mannwhitneyu(average_profit['audience_average'],average_noprofit['audience_average']).pvalue"
   ]
  },
  {
   "cell_type": "code",
   "execution_count": null,
   "metadata": {
    "scrolled": false
   },
   "outputs": [],
   "source": [
    "#data.groupby(['genre']).agg(['mean','count'])\n",
    "#average_profit.groupby(['genre']).agg(['mean','count'])\n"
   ]
  },
  {
   "cell_type": "code",
   "execution_count": null,
   "metadata": {
    "scrolled": true
   },
   "outputs": [],
   "source": [
    "genre_success = data[['genre','made_profit','audience_average','critic_average']]\n",
    "x = genre_success.groupby(['genre','made_profit']).agg({'genre':'count','audience_average':'mean','critic_average':'mean'}).rename(columns={'genre': 'count'})\n",
    "x = x[x['count']>1]\n",
    "x = x.reset_index(level=['genre','made_profit'])\n",
    "x"
   ]
  },
  {
   "cell_type": "code",
   "execution_count": null,
   "metadata": {},
   "outputs": [],
   "source": [
    "x['profit'] = x[x['made_profit']==True]['count']\n",
    "x['no_profit']= x[x['made_profit']==False]['count']\n",
    "p = x[x['made_profit']==True]\n",
    "p = p.drop(columns=['no_profit','made_profit','count'])\n",
    "np = x[x['made_profit']==False]\n",
    "np = np.drop(columns=['profit','made_profit','count'])\n",
    "#suffixes indicate p = profit, np = no_profit to distinguish between averages\n",
    "merge = p.merge(np,how='left',on='genre', suffixes=('_p','_np')).fillna(0)\n",
    "merge"
   ]
  },
  {
   "cell_type": "markdown",
   "metadata": {},
   "source": [
    "### Chi-Squared Test"
   ]
  },
  {
   "cell_type": "code",
   "execution_count": null,
   "metadata": {},
   "outputs": [],
   "source": [
    "genre_contingency = list(merge[['profit', 'no_profit']].itertuples(index=False, name=None))\n",
    "genre_critic_contingency = list(merge[['profit', 'no_profit','audience_average_p','critic_average_p','audience_average_np','critic_average_np']].itertuples(index=False, name=None))\n"
   ]
  },
  {
   "cell_type": "code",
   "execution_count": null,
   "metadata": {},
   "outputs": [],
   "source": [
    "#contingency table\n",
    "#Note: Only counting genres with more than 1 movie with profit/no_profit\n",
    "#        Profit  No_Profit\n",
    "#Genre1  count\n",
    "#Genre2\n",
    "\n",
    "chi2, genre_contingency_pval, dof, expected = stats.chi2_contingency(genre_contingency)\n",
    "\n",
    "genre_contingency_pval"
   ]
  },
  {
   "cell_type": "code",
   "execution_count": null,
   "metadata": {},
   "outputs": [],
   "source": [
    "#contingency table\n",
    "#Note: Only counting genres with more than 1 movie with profit/no_profit\n",
    "#        Audience_Average_Profit | Critic_Average_Profit | Profit | Audience_Average_Profit| Critic_Average_Profit| No_Profit\n",
    "#Genre1  count                              count        ...\n",
    "#Genre2    .\n",
    "#....\n",
    "#GenreN\n",
    "\n",
    "chi2, genre_critic_contingency_pval, dof, expected = stats.chi2_contingency(genre_critic_contingency)\n",
    "\n",
    "genre_critic_contingency_pval"
   ]
  },
  {
   "cell_type": "code",
   "execution_count": 10,
   "metadata": {},
   "outputs": [
    {
     "ename": "NameError",
     "evalue": "name 'a' is not defined",
     "output_type": "error",
     "traceback": [
      "\u001b[1;31m---------------------------------------------------------------------------\u001b[0m",
      "\u001b[1;31mNameError\u001b[0m                                 Traceback (most recent call last)",
      "\u001b[1;32m<ipython-input-10-3f786850e387>\u001b[0m in \u001b[0;36m<module>\u001b[1;34m\u001b[0m\n\u001b[1;32m----> 1\u001b[1;33m \u001b[0ma\u001b[0m\u001b[1;33m\u001b[0m\u001b[0m\n\u001b[0m",
      "\u001b[1;31mNameError\u001b[0m: name 'a' is not defined"
     ]
    }
   ],
   "source": [
    "a"
   ]
  },
  {
   "cell_type": "code",
   "execution_count": null,
   "metadata": {},
   "outputs": [],
   "source": []
  }
 ],
 "metadata": {
  "kernelspec": {
   "display_name": "Python 3",
   "language": "python",
   "name": "python3"
  },
  "language_info": {
   "codemirror_mode": {
    "name": "ipython",
    "version": 3
   },
   "file_extension": ".py",
   "mimetype": "text/x-python",
   "name": "python",
   "nbconvert_exporter": "python",
   "pygments_lexer": "ipython3",
   "version": "3.7.0"
  }
 },
 "nbformat": 4,
 "nbformat_minor": 2
}
