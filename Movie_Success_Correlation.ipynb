{
 "cells": [
  {
   "cell_type": "code",
   "execution_count": 1,
   "metadata": {},
   "outputs": [],
   "source": [
    "import pandas as pd\n",
    "import numpy as np\n",
    "import matplotlib.pyplot as plt\n",
    "from scipy import stats"
   ]
  },
  {
   "cell_type": "code",
   "execution_count": 2,
   "metadata": {},
   "outputs": [],
   "source": [
    "data = pd.read_csv('movies_success.csv', sep=',')"
   ]
  },
  {
   "cell_type": "code",
   "execution_count": 3,
   "metadata": {},
   "outputs": [],
   "source": [
    "average_profit = data[data['made_profit']==True]\n",
    "average_noprofit = data[data['made_profit']==False]"
   ]
  },
  {
   "cell_type": "markdown",
   "metadata": {},
   "source": [
    "### Histograms"
   ]
  },
  {
   "cell_type": "code",
   "execution_count": 4,
   "metadata": {},
   "outputs": [
    {
     "data": {
      "text/plain": [
       "(array([111.,   0.,   0.,   0.,   0.,   0.,   0.,   0.,   0., 625.]),\n",
       " array([0. , 0.1, 0.2, 0.3, 0.4, 0.5, 0.6, 0.7, 0.8, 0.9, 1. ]),\n",
       " <a list of 10 Patch objects>)"
      ]
     },
     "execution_count": 4,
     "metadata": {},
     "output_type": "execute_result"
    },
    {
     "data": {
      "image/png": "[encoded data removed]",
      "text/plain": [
       "<Figure size 432x288 with 1 Axes>"
      ]
     },
     "metadata": {
      "needs_background": "light"
     },
     "output_type": "display_data"
    }
   ],
   "source": [
    "plt.hist(data['made_profit'])"
   ]
  },
  {
   "cell_type": "code",
   "execution_count": 5,
   "metadata": {},
   "outputs": [
    {
     "data": {
      "text/plain": [
       "(array([ 1.,  0.,  1.,  3., 11., 34., 25., 23.,  9.,  4.]),\n",
       " array([1.5 , 1.78, 2.06, 2.34, 2.62, 2.9 , 3.18, 3.46, 3.74, 4.02, 4.3 ]),\n",
       " <a list of 10 Patch objects>)"
      ]
     },
     "execution_count": 5,
     "metadata": {},
     "output_type": "execute_result"
    },
    {
     "data": {
      "image/png": "[encoded data removed]",
      "text/plain": [
       "<Figure size 432x288 with 1 Axes>"
      ]
     },
     "metadata": {
      "needs_background": "light"
     },
     "output_type": "display_data"
    }
   ],
   "source": [
    "plt.hist(data['audience_average'])\n",
    "plt.hist(average_profit['audience_average'])\n",
    "plt.hist(average_noprofit['audience_average'])"
   ]
  },
  {
   "cell_type": "code",
   "execution_count": 6,
   "metadata": {},
   "outputs": [
    {
     "data": {
      "text/plain": [
       "(array([ 1.,  2.,  5.,  8., 21., 25., 17., 19.,  9.,  4.]),\n",
       " array([1. , 1.8, 2.6, 3.4, 4.2, 5. , 5.8, 6.6, 7.4, 8.2, 9. ]),\n",
       " <a list of 10 Patch objects>)"
      ]
     },
     "execution_count": 6,
     "metadata": {},
     "output_type": "execute_result"
    },
    {
     "data": {
      "image/png": "[encoded data removed]",
      "text/plain": [
       "<Figure size 432x288 with 1 Axes>"
      ]
     },
     "metadata": {
      "needs_background": "light"
     },
     "output_type": "display_data"
    }
   ],
   "source": [
    "plt.hist(data['critic_average'])\n",
    "plt.hist(average_profit['critic_average'])\n",
    "plt.hist(average_noprofit['critic_average'])"
   ]
  },
  {
   "cell_type": "code",
   "execution_count": 7,
   "metadata": {
    "scrolled": true
   },
   "outputs": [],
   "source": [
    "#plt.hist(data['genre'])"
   ]
  },
  {
   "cell_type": "markdown",
   "metadata": {},
   "source": [
    "### Statistical Tests"
   ]
  },
  {
   "cell_type": "code",
   "execution_count": 8,
   "metadata": {},
   "outputs": [
    {
     "name": "stdout",
     "output_type": "stream",
     "text": [
      "Normality Tests\n",
      "Critic Average pvalue: 6.21e-06  Audience Average pvalue: 0.00127\n"
     ]
    }
   ],
   "source": [
    "norm1 = stats.normaltest(data['critic_average']).pvalue\n",
    "norm2 = stats.normaltest(data['audience_average']).pvalue\n",
    "print(\"Normality Tests\\nCritic Average pvalue: %0.03g  Audience Average pvalue: %0.03g\" % (norm1,norm2))"
   ]
  },
  {
   "cell_type": "code",
   "execution_count": 9,
   "metadata": {},
   "outputs": [
    {
     "data": {
      "text/plain": [
       "(array([ 14.,  53.,  94., 116., 100., 117., 113.,  57.,  50.,  22.]),\n",
       " array([ 1.   ,  9.549, 18.098, 26.647, 35.196, 43.745, 52.294, 60.843,\n",
       "        69.392, 77.941, 86.49 ]),\n",
       " <a list of 10 Patch objects>)"
      ]
     },
     "execution_count": 9,
     "metadata": {},
     "output_type": "execute_result"
    },
    {
     "data": {
      "image/png": "[encoded data removed]",
      "text/plain": [
       "<Figure size 432x288 with 1 Axes>"
      ]
     },
     "metadata": {
      "needs_background": "light"
     },
     "output_type": "display_data"
    }
   ],
   "source": [
    "#transforming critic_average data by squaring makes it look normal, still fails normality test\n",
    "#probably because the number of data points > 40\n",
    "plt.hist(data['critic_average']**2)\n",
    "\n",
    "\n",
    "#transforming audience_average data by squaring makes it look normal, still fails normality test\n",
    "#plt.hist(data['audience_average']**2)"
   ]
  },
  {
   "cell_type": "code",
   "execution_count": 10,
   "metadata": {},
   "outputs": [
    {
     "name": "stdout",
     "output_type": "stream",
     "text": [
      "Variance between profit and profit\n",
      "Audience: 0.0781, Critic: 0.939\n"
     ]
    }
   ],
   "source": [
    "#Levene Test\n",
    "\n",
    "levene1 = stats.levene(average_profit['audience_average'],average_noprofit['audience_average']).pvalue\n",
    "levene2 = stats.levene(average_profit['critic_average'],average_noprofit['critic_average']).pvalue\n",
    "\n",
    "print(\"Variance between profit and profit\\nAudience: %0.03g, Critic: %0.03g\" % (levene1,levene2))\n",
    "#Can conclude that both groups have equal variance"
   ]
  },
  {
   "cell_type": "code",
   "execution_count": 11,
   "metadata": {
    "scrolled": true
   },
   "outputs": [
    {
     "data": {
      "text/plain": [
       "4.856133018674203e-11"
      ]
     },
     "execution_count": 11,
     "metadata": {},
     "output_type": "execute_result"
    }
   ],
   "source": [
    "#T-test\n",
    "#Are the means different for audience and critic reviews between movies that made profit and no profit?\n",
    "#Yes as it turns out (p << 0.05)\n",
    "\n",
    "stats.ttest_ind(average_profit['audience_average'],average_noprofit['audience_average']).pvalue\n",
    "#stats.ttest_ind(average_profit['critic_average'],average_noprofit['critic_average']).pvalue\n",
    "#stats.ttest_ind(average_profit['audience_average'],average_profit['critic_average']).pvalue\n",
    "#stats.ttest_ind(average_noprofit['audience_average'],average_profit['critic_average']).pvalue"
   ]
  },
  {
   "cell_type": "markdown",
   "metadata": {},
   "source": [
    "### Chi-Squared Test"
   ]
  },
  {
   "cell_type": "code",
   "execution_count": 12,
   "metadata": {
    "scrolled": true
   },
   "outputs": [
    {
     "data": {
      "text/html": [
       "<div>\n",
       "<style scoped>\n",
       "    .dataframe tbody tr th:only-of-type {\n",
       "        vertical-align: middle;\n",
       "    }\n",
       "\n",
       "    .dataframe tbody tr th {\n",
       "        vertical-align: top;\n",
       "    }\n",
       "\n",
       "    .dataframe thead th {\n",
       "        text-align: right;\n",
       "    }\n",
       "</style>\n",
       "<table border=\"1\" class=\"dataframe\">\n",
       "  <thead>\n",
       "    <tr style=\"text-align: right;\">\n",
       "      <th></th>\n",
       "      <th>genre</th>\n",
       "      <th>made_profit</th>\n",
       "      <th>count</th>\n",
       "      <th>audience_average</th>\n",
       "      <th>critic_average</th>\n",
       "    </tr>\n",
       "  </thead>\n",
       "  <tbody>\n",
       "    <tr>\n",
       "      <th>0</th>\n",
       "      <td>action film</td>\n",
       "      <td>0.0</td>\n",
       "      <td>18</td>\n",
       "      <td>3.138889</td>\n",
       "      <td>4.988889</td>\n",
       "    </tr>\n",
       "    <tr>\n",
       "      <th>1</th>\n",
       "      <td>action film</td>\n",
       "      <td>1.0</td>\n",
       "      <td>93</td>\n",
       "      <td>3.455914</td>\n",
       "      <td>5.946237</td>\n",
       "    </tr>\n",
       "    <tr>\n",
       "      <th>2</th>\n",
       "      <td>adventure film</td>\n",
       "      <td>1.0</td>\n",
       "      <td>10</td>\n",
       "      <td>3.460000</td>\n",
       "      <td>6.560000</td>\n",
       "    </tr>\n",
       "    <tr>\n",
       "      <th>3</th>\n",
       "      <td>biographical film</td>\n",
       "      <td>0.0</td>\n",
       "      <td>9</td>\n",
       "      <td>3.611111</td>\n",
       "      <td>6.677778</td>\n",
       "    </tr>\n",
       "    <tr>\n",
       "      <th>4</th>\n",
       "      <td>biographical film</td>\n",
       "      <td>1.0</td>\n",
       "      <td>22</td>\n",
       "      <td>3.750000</td>\n",
       "      <td>7.004545</td>\n",
       "    </tr>\n",
       "    <tr>\n",
       "      <th>5</th>\n",
       "      <td>buddy film</td>\n",
       "      <td>1.0</td>\n",
       "      <td>12</td>\n",
       "      <td>3.291667</td>\n",
       "      <td>6.341667</td>\n",
       "    </tr>\n",
       "    <tr>\n",
       "      <th>6</th>\n",
       "      <td>comedy film</td>\n",
       "      <td>0.0</td>\n",
       "      <td>9</td>\n",
       "      <td>3.322222</td>\n",
       "      <td>5.988889</td>\n",
       "    </tr>\n",
       "    <tr>\n",
       "      <th>7</th>\n",
       "      <td>comedy film</td>\n",
       "      <td>1.0</td>\n",
       "      <td>54</td>\n",
       "      <td>3.357407</td>\n",
       "      <td>5.714815</td>\n",
       "    </tr>\n",
       "    <tr>\n",
       "      <th>8</th>\n",
       "      <td>comedy-drama</td>\n",
       "      <td>1.0</td>\n",
       "      <td>10</td>\n",
       "      <td>3.780000</td>\n",
       "      <td>7.170000</td>\n",
       "    </tr>\n",
       "    <tr>\n",
       "      <th>9</th>\n",
       "      <td>crime film</td>\n",
       "      <td>1.0</td>\n",
       "      <td>19</td>\n",
       "      <td>3.421053</td>\n",
       "      <td>6.478947</td>\n",
       "    </tr>\n",
       "    <tr>\n",
       "      <th>10</th>\n",
       "      <td>documentary film</td>\n",
       "      <td>1.0</td>\n",
       "      <td>6</td>\n",
       "      <td>3.850000</td>\n",
       "      <td>7.766667</td>\n",
       "    </tr>\n",
       "    <tr>\n",
       "      <th>11</th>\n",
       "      <td>drama film</td>\n",
       "      <td>0.0</td>\n",
       "      <td>13</td>\n",
       "      <td>3.415385</td>\n",
       "      <td>6.100000</td>\n",
       "    </tr>\n",
       "    <tr>\n",
       "      <th>12</th>\n",
       "      <td>drama film</td>\n",
       "      <td>1.0</td>\n",
       "      <td>55</td>\n",
       "      <td>3.776364</td>\n",
       "      <td>7.223636</td>\n",
       "    </tr>\n",
       "    <tr>\n",
       "      <th>13</th>\n",
       "      <td>fantasy film</td>\n",
       "      <td>1.0</td>\n",
       "      <td>40</td>\n",
       "      <td>3.662500</td>\n",
       "      <td>6.570000</td>\n",
       "    </tr>\n",
       "    <tr>\n",
       "      <th>14</th>\n",
       "      <td>horror film</td>\n",
       "      <td>1.0</td>\n",
       "      <td>37</td>\n",
       "      <td>3.272973</td>\n",
       "      <td>6.154054</td>\n",
       "    </tr>\n",
       "    <tr>\n",
       "      <th>15</th>\n",
       "      <td>musical film</td>\n",
       "      <td>1.0</td>\n",
       "      <td>16</td>\n",
       "      <td>3.731250</td>\n",
       "      <td>6.825000</td>\n",
       "    </tr>\n",
       "    <tr>\n",
       "      <th>16</th>\n",
       "      <td>neo-noir</td>\n",
       "      <td>1.0</td>\n",
       "      <td>7</td>\n",
       "      <td>3.771429</td>\n",
       "      <td>7.814286</td>\n",
       "    </tr>\n",
       "    <tr>\n",
       "      <th>17</th>\n",
       "      <td>romance film</td>\n",
       "      <td>1.0</td>\n",
       "      <td>23</td>\n",
       "      <td>3.660870</td>\n",
       "      <td>6.591304</td>\n",
       "    </tr>\n",
       "    <tr>\n",
       "      <th>18</th>\n",
       "      <td>romantic comedy</td>\n",
       "      <td>1.0</td>\n",
       "      <td>45</td>\n",
       "      <td>3.451111</td>\n",
       "      <td>6.655556</td>\n",
       "    </tr>\n",
       "    <tr>\n",
       "      <th>19</th>\n",
       "      <td>science fiction film</td>\n",
       "      <td>0.0</td>\n",
       "      <td>6</td>\n",
       "      <td>3.133333</td>\n",
       "      <td>5.633333</td>\n",
       "    </tr>\n",
       "    <tr>\n",
       "      <th>20</th>\n",
       "      <td>science fiction film</td>\n",
       "      <td>1.0</td>\n",
       "      <td>52</td>\n",
       "      <td>3.544231</td>\n",
       "      <td>6.528846</td>\n",
       "    </tr>\n",
       "    <tr>\n",
       "      <th>21</th>\n",
       "      <td>spy film</td>\n",
       "      <td>1.0</td>\n",
       "      <td>9</td>\n",
       "      <td>3.233333</td>\n",
       "      <td>6.044444</td>\n",
       "    </tr>\n",
       "    <tr>\n",
       "      <th>22</th>\n",
       "      <td>superhero film</td>\n",
       "      <td>1.0</td>\n",
       "      <td>8</td>\n",
       "      <td>3.975000</td>\n",
       "      <td>7.087500</td>\n",
       "    </tr>\n",
       "    <tr>\n",
       "      <th>23</th>\n",
       "      <td>thriller film</td>\n",
       "      <td>1.0</td>\n",
       "      <td>21</td>\n",
       "      <td>3.671429</td>\n",
       "      <td>6.704762</td>\n",
       "    </tr>\n",
       "    <tr>\n",
       "      <th>24</th>\n",
       "      <td>war film</td>\n",
       "      <td>1.0</td>\n",
       "      <td>16</td>\n",
       "      <td>3.818750</td>\n",
       "      <td>7.237500</td>\n",
       "    </tr>\n",
       "  </tbody>\n",
       "</table>\n",
       "</div>"
      ],
      "text/plain": [
       "                   genre  made_profit  count  audience_average  critic_average\n",
       "0            action film          0.0     18          3.138889        4.988889\n",
       "1            action film          1.0     93          3.455914        5.946237\n",
       "2         adventure film          1.0     10          3.460000        6.560000\n",
       "3      biographical film          0.0      9          3.611111        6.677778\n",
       "4      biographical film          1.0     22          3.750000        7.004545\n",
       "5             buddy film          1.0     12          3.291667        6.341667\n",
       "6            comedy film          0.0      9          3.322222        5.988889\n",
       "7            comedy film          1.0     54          3.357407        5.714815\n",
       "8           comedy-drama          1.0     10          3.780000        7.170000\n",
       "9             crime film          1.0     19          3.421053        6.478947\n",
       "10      documentary film          1.0      6          3.850000        7.766667\n",
       "11            drama film          0.0     13          3.415385        6.100000\n",
       "12            drama film          1.0     55          3.776364        7.223636\n",
       "13          fantasy film          1.0     40          3.662500        6.570000\n",
       "14           horror film          1.0     37          3.272973        6.154054\n",
       "15          musical film          1.0     16          3.731250        6.825000\n",
       "16              neo-noir          1.0      7          3.771429        7.814286\n",
       "17          romance film          1.0     23          3.660870        6.591304\n",
       "18       romantic comedy          1.0     45          3.451111        6.655556\n",
       "19  science fiction film          0.0      6          3.133333        5.633333\n",
       "20  science fiction film          1.0     52          3.544231        6.528846\n",
       "21              spy film          1.0      9          3.233333        6.044444\n",
       "22        superhero film          1.0      8          3.975000        7.087500\n",
       "23         thriller film          1.0     21          3.671429        6.704762\n",
       "24              war film          1.0     16          3.818750        7.237500"
      ]
     },
     "execution_count": 12,
     "metadata": {},
     "output_type": "execute_result"
    }
   ],
   "source": [
    "genre_success = data[['genre','made_profit','audience_average','critic_average']]\n",
    "x = genre_success.groupby(['genre','made_profit']).agg({'genre':'count','audience_average':'mean','critic_average':'mean'}).rename(columns={'genre': 'count'})\n",
    "x = x[x['count']>5]\n",
    "x = x.reset_index(level=['genre','made_profit'])\n",
    "x"
   ]
  },
  {
   "cell_type": "code",
   "execution_count": 13,
   "metadata": {},
   "outputs": [
    {
     "data": {
      "text/html": [
       "<div>\n",
       "<style scoped>\n",
       "    .dataframe tbody tr th:only-of-type {\n",
       "        vertical-align: middle;\n",
       "    }\n",
       "\n",
       "    .dataframe tbody tr th {\n",
       "        vertical-align: top;\n",
       "    }\n",
       "\n",
       "    .dataframe thead th {\n",
       "        text-align: right;\n",
       "    }\n",
       "</style>\n",
       "<table border=\"1\" class=\"dataframe\">\n",
       "  <thead>\n",
       "    <tr style=\"text-align: right;\">\n",
       "      <th></th>\n",
       "      <th>genre</th>\n",
       "      <th>audience_average_p</th>\n",
       "      <th>critic_average_p</th>\n",
       "      <th>profit</th>\n",
       "      <th>audience_average_np</th>\n",
       "      <th>critic_average_np</th>\n",
       "      <th>no_profit</th>\n",
       "    </tr>\n",
       "  </thead>\n",
       "  <tbody>\n",
       "    <tr>\n",
       "      <th>0</th>\n",
       "      <td>action film</td>\n",
       "      <td>3.455914</td>\n",
       "      <td>5.946237</td>\n",
       "      <td>93.0</td>\n",
       "      <td>3.138889</td>\n",
       "      <td>4.988889</td>\n",
       "      <td>18.0</td>\n",
       "    </tr>\n",
       "    <tr>\n",
       "      <th>1</th>\n",
       "      <td>adventure film</td>\n",
       "      <td>3.460000</td>\n",
       "      <td>6.560000</td>\n",
       "      <td>10.0</td>\n",
       "      <td>0.000000</td>\n",
       "      <td>0.000000</td>\n",
       "      <td>0.0</td>\n",
       "    </tr>\n",
       "    <tr>\n",
       "      <th>2</th>\n",
       "      <td>biographical film</td>\n",
       "      <td>3.750000</td>\n",
       "      <td>7.004545</td>\n",
       "      <td>22.0</td>\n",
       "      <td>3.611111</td>\n",
       "      <td>6.677778</td>\n",
       "      <td>9.0</td>\n",
       "    </tr>\n",
       "    <tr>\n",
       "      <th>3</th>\n",
       "      <td>buddy film</td>\n",
       "      <td>3.291667</td>\n",
       "      <td>6.341667</td>\n",
       "      <td>12.0</td>\n",
       "      <td>0.000000</td>\n",
       "      <td>0.000000</td>\n",
       "      <td>0.0</td>\n",
       "    </tr>\n",
       "    <tr>\n",
       "      <th>4</th>\n",
       "      <td>comedy film</td>\n",
       "      <td>3.357407</td>\n",
       "      <td>5.714815</td>\n",
       "      <td>54.0</td>\n",
       "      <td>3.322222</td>\n",
       "      <td>5.988889</td>\n",
       "      <td>9.0</td>\n",
       "    </tr>\n",
       "    <tr>\n",
       "      <th>5</th>\n",
       "      <td>comedy-drama</td>\n",
       "      <td>3.780000</td>\n",
       "      <td>7.170000</td>\n",
       "      <td>10.0</td>\n",
       "      <td>0.000000</td>\n",
       "      <td>0.000000</td>\n",
       "      <td>0.0</td>\n",
       "    </tr>\n",
       "    <tr>\n",
       "      <th>6</th>\n",
       "      <td>crime film</td>\n",
       "      <td>3.421053</td>\n",
       "      <td>6.478947</td>\n",
       "      <td>19.0</td>\n",
       "      <td>0.000000</td>\n",
       "      <td>0.000000</td>\n",
       "      <td>0.0</td>\n",
       "    </tr>\n",
       "    <tr>\n",
       "      <th>7</th>\n",
       "      <td>documentary film</td>\n",
       "      <td>3.850000</td>\n",
       "      <td>7.766667</td>\n",
       "      <td>6.0</td>\n",
       "      <td>0.000000</td>\n",
       "      <td>0.000000</td>\n",
       "      <td>0.0</td>\n",
       "    </tr>\n",
       "    <tr>\n",
       "      <th>8</th>\n",
       "      <td>drama film</td>\n",
       "      <td>3.776364</td>\n",
       "      <td>7.223636</td>\n",
       "      <td>55.0</td>\n",
       "      <td>3.415385</td>\n",
       "      <td>6.100000</td>\n",
       "      <td>13.0</td>\n",
       "    </tr>\n",
       "    <tr>\n",
       "      <th>9</th>\n",
       "      <td>fantasy film</td>\n",
       "      <td>3.662500</td>\n",
       "      <td>6.570000</td>\n",
       "      <td>40.0</td>\n",
       "      <td>0.000000</td>\n",
       "      <td>0.000000</td>\n",
       "      <td>0.0</td>\n",
       "    </tr>\n",
       "    <tr>\n",
       "      <th>10</th>\n",
       "      <td>horror film</td>\n",
       "      <td>3.272973</td>\n",
       "      <td>6.154054</td>\n",
       "      <td>37.0</td>\n",
       "      <td>0.000000</td>\n",
       "      <td>0.000000</td>\n",
       "      <td>0.0</td>\n",
       "    </tr>\n",
       "    <tr>\n",
       "      <th>11</th>\n",
       "      <td>musical film</td>\n",
       "      <td>3.731250</td>\n",
       "      <td>6.825000</td>\n",
       "      <td>16.0</td>\n",
       "      <td>0.000000</td>\n",
       "      <td>0.000000</td>\n",
       "      <td>0.0</td>\n",
       "    </tr>\n",
       "    <tr>\n",
       "      <th>12</th>\n",
       "      <td>neo-noir</td>\n",
       "      <td>3.771429</td>\n",
       "      <td>7.814286</td>\n",
       "      <td>7.0</td>\n",
       "      <td>0.000000</td>\n",
       "      <td>0.000000</td>\n",
       "      <td>0.0</td>\n",
       "    </tr>\n",
       "    <tr>\n",
       "      <th>13</th>\n",
       "      <td>romance film</td>\n",
       "      <td>3.660870</td>\n",
       "      <td>6.591304</td>\n",
       "      <td>23.0</td>\n",
       "      <td>0.000000</td>\n",
       "      <td>0.000000</td>\n",
       "      <td>0.0</td>\n",
       "    </tr>\n",
       "    <tr>\n",
       "      <th>14</th>\n",
       "      <td>romantic comedy</td>\n",
       "      <td>3.451111</td>\n",
       "      <td>6.655556</td>\n",
       "      <td>45.0</td>\n",
       "      <td>0.000000</td>\n",
       "      <td>0.000000</td>\n",
       "      <td>0.0</td>\n",
       "    </tr>\n",
       "    <tr>\n",
       "      <th>15</th>\n",
       "      <td>science fiction film</td>\n",
       "      <td>3.544231</td>\n",
       "      <td>6.528846</td>\n",
       "      <td>52.0</td>\n",
       "      <td>3.133333</td>\n",
       "      <td>5.633333</td>\n",
       "      <td>6.0</td>\n",
       "    </tr>\n",
       "    <tr>\n",
       "      <th>16</th>\n",
       "      <td>spy film</td>\n",
       "      <td>3.233333</td>\n",
       "      <td>6.044444</td>\n",
       "      <td>9.0</td>\n",
       "      <td>0.000000</td>\n",
       "      <td>0.000000</td>\n",
       "      <td>0.0</td>\n",
       "    </tr>\n",
       "    <tr>\n",
       "      <th>17</th>\n",
       "      <td>superhero film</td>\n",
       "      <td>3.975000</td>\n",
       "      <td>7.087500</td>\n",
       "      <td>8.0</td>\n",
       "      <td>0.000000</td>\n",
       "      <td>0.000000</td>\n",
       "      <td>0.0</td>\n",
       "    </tr>\n",
       "    <tr>\n",
       "      <th>18</th>\n",
       "      <td>thriller film</td>\n",
       "      <td>3.671429</td>\n",
       "      <td>6.704762</td>\n",
       "      <td>21.0</td>\n",
       "      <td>0.000000</td>\n",
       "      <td>0.000000</td>\n",
       "      <td>0.0</td>\n",
       "    </tr>\n",
       "    <tr>\n",
       "      <th>19</th>\n",
       "      <td>war film</td>\n",
       "      <td>3.818750</td>\n",
       "      <td>7.237500</td>\n",
       "      <td>16.0</td>\n",
       "      <td>0.000000</td>\n",
       "      <td>0.000000</td>\n",
       "      <td>0.0</td>\n",
       "    </tr>\n",
       "  </tbody>\n",
       "</table>\n",
       "</div>"
      ],
      "text/plain": [
       "                   genre  audience_average_p  critic_average_p  profit  \\\n",
       "0            action film            3.455914          5.946237    93.0   \n",
       "1         adventure film            3.460000          6.560000    10.0   \n",
       "2      biographical film            3.750000          7.004545    22.0   \n",
       "3             buddy film            3.291667          6.341667    12.0   \n",
       "4            comedy film            3.357407          5.714815    54.0   \n",
       "5           comedy-drama            3.780000          7.170000    10.0   \n",
       "6             crime film            3.421053          6.478947    19.0   \n",
       "7       documentary film            3.850000          7.766667     6.0   \n",
       "8             drama film            3.776364          7.223636    55.0   \n",
       "9           fantasy film            3.662500          6.570000    40.0   \n",
       "10           horror film            3.272973          6.154054    37.0   \n",
       "11          musical film            3.731250          6.825000    16.0   \n",
       "12              neo-noir            3.771429          7.814286     7.0   \n",
       "13          romance film            3.660870          6.591304    23.0   \n",
       "14       romantic comedy            3.451111          6.655556    45.0   \n",
       "15  science fiction film            3.544231          6.528846    52.0   \n",
       "16              spy film            3.233333          6.044444     9.0   \n",
       "17        superhero film            3.975000          7.087500     8.0   \n",
       "18         thriller film            3.671429          6.704762    21.0   \n",
       "19              war film            3.818750          7.237500    16.0   \n",
       "\n",
       "    audience_average_np  critic_average_np  no_profit  \n",
       "0              3.138889           4.988889       18.0  \n",
       "1              0.000000           0.000000        0.0  \n",
       "2              3.611111           6.677778        9.0  \n",
       "3              0.000000           0.000000        0.0  \n",
       "4              3.322222           5.988889        9.0  \n",
       "5              0.000000           0.000000        0.0  \n",
       "6              0.000000           0.000000        0.0  \n",
       "7              0.000000           0.000000        0.0  \n",
       "8              3.415385           6.100000       13.0  \n",
       "9              0.000000           0.000000        0.0  \n",
       "10             0.000000           0.000000        0.0  \n",
       "11             0.000000           0.000000        0.0  \n",
       "12             0.000000           0.000000        0.0  \n",
       "13             0.000000           0.000000        0.0  \n",
       "14             0.000000           0.000000        0.0  \n",
       "15             3.133333           5.633333        6.0  \n",
       "16             0.000000           0.000000        0.0  \n",
       "17             0.000000           0.000000        0.0  \n",
       "18             0.000000           0.000000        0.0  \n",
       "19             0.000000           0.000000        0.0  "
      ]
     },
     "execution_count": 13,
     "metadata": {},
     "output_type": "execute_result"
    }
   ],
   "source": [
    "x['profit'] = x[x['made_profit']==True]['count']\n",
    "x['no_profit']= x[x['made_profit']==False]['count']\n",
    "p = x[x['made_profit']==True]\n",
    "p = p.drop(columns=['no_profit','made_profit','count'])\n",
    "np = x[x['made_profit']==False]\n",
    "np = np.drop(columns=['profit','made_profit','count'])\n",
    "#suffixes indicate p = profit, np = no_profit to distinguish between averages\n",
    "merge = p.merge(np,how='left',on='genre', suffixes=('_p','_np')).fillna(0)\n",
    "merge"
   ]
  },
  {
   "cell_type": "code",
   "execution_count": 14,
   "metadata": {},
   "outputs": [],
   "source": [
    "genre_contingency = list(merge[['profit', 'no_profit']].itertuples(index=False, name=None))\n",
    "genre_critic_contingency = list(merge[['profit', 'no_profit','audience_average_p','critic_average_p','audience_average_np','critic_average_np']].itertuples(index=False, name=None))\n"
   ]
  },
  {
   "cell_type": "code",
   "execution_count": 15,
   "metadata": {},
   "outputs": [
    {
     "data": {
      "text/plain": [
       "3.2043166972678516e-06"
      ]
     },
     "execution_count": 15,
     "metadata": {},
     "output_type": "execute_result"
    }
   ],
   "source": [
    "#contingency table\n",
    "#Note: Only counting genres with more than 5 movie with profit/no_profit\n",
    "#        Profit  No_Profit\n",
    "#Genre1  count\n",
    "#Genre2\n",
    "\n",
    "chi2, genre_contingency_pval, dof, expected = stats.chi2_contingency(genre_contingency)\n",
    "\n",
    "genre_contingency_pval"
   ]
  },
  {
   "cell_type": "code",
   "execution_count": 16,
   "metadata": {},
   "outputs": [
    {
     "data": {
      "text/plain": [
       "3.493504056780893e-14"
      ]
     },
     "execution_count": 16,
     "metadata": {},
     "output_type": "execute_result"
    }
   ],
   "source": [
    "#contingency table\n",
    "#Note: Only counting genres with more than 5 movie with profit/no_profit\n",
    "#  Audience_Average_Profit | Critic_Average_Profit | Profit | Audience_Average_NoProfit| Critic_Average_NoProfit| No_Profit\n",
    "#Genre1  count                           count        ...\n",
    "#Genre2    .\n",
    "#....\n",
    "#GenreN\n",
    "\n",
    "chi2, genre_critic_contingency_pval, dof, expected = stats.chi2_contingency(genre_critic_contingency)\n",
    "\n",
    "genre_critic_contingency_pval"
   ]
  },
  {
   "cell_type": "code",
   "execution_count": null,
   "metadata": {},
   "outputs": [],
   "source": []
  }
 ],
 "metadata": {
  "kernelspec": {
   "display_name": "Python 3",
   "language": "python",
   "name": "python3"
  },
  "language_info": {
   "codemirror_mode": {
    "name": "ipython",
    "version": 3
   },
   "file_extension": ".py",
   "mimetype": "text/x-python",
   "name": "python",
   "nbconvert_exporter": "python",
   "pygments_lexer": "ipython3",
   "version": "3.7.0"
  }
 },
 "nbformat": 4,
 "nbformat_minor": 2
}
